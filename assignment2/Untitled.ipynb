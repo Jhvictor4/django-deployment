{
 "cells": [
  {
   "cell_type": "code",
   "execution_count": 1,
   "id": "5fe24dde",
   "metadata": {},
   "outputs": [
    {
     "data": {
      "text/plain": [
       "'화이팅!'"
      ]
     },
     "metadata": {},
     "output_type": "display_data"
    }
   ],
   "source": [
    "# 한번 드랍한 수강생은 재참여가 불가능하지만, 사정을 봐줘야 하는 경우가 존재할 수 있음\n",
    "# 그럴 때 사용할 수 있는 스크립트는 뭐가 있을까?\n",
    "\n",
    "display('화이팅!')"
   ]
  }
 ],
 "metadata": {
  "kernelspec": {
   "display_name": "Python 3 (ipykernel)",
   "language": "python",
   "name": "python3"
  },
  "language_info": {
   "codemirror_mode": {
    "name": "ipython",
    "version": 3
   },
   "file_extension": ".py",
   "mimetype": "text/x-python",
   "name": "python",
   "nbconvert_exporter": "python",
   "pygments_lexer": "ipython3",
   "version": "3.8.9"
  }
 },
 "nbformat": 4,
 "nbformat_minor": 5
}
